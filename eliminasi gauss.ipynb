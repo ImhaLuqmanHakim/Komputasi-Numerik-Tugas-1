{
  "nbformat": 4,
  "nbformat_minor": 0,
  "metadata": {
    "colab": {
      "provenance": [],
      "include_colab_link": true
    },
    "kernelspec": {
      "name": "python3",
      "display_name": "Python 3"
    },
    "language_info": {
      "name": "python"
    }
  },
  "cells": [
    {
      "cell_type": "markdown",
      "metadata": {
        "id": "view-in-github",
        "colab_type": "text"
      },
      "source": [
        "<a href=\"https://colab.research.google.com/github/ImhaLuqmanHakim/Komputasi-Numerik-Tugas-1/blob/main/eliminasi%20gauss.ipynb\" target=\"_parent\"><img src=\"https://colab.research.google.com/assets/colab-badge.svg\" alt=\"Open In Colab\"/></a>"
      ]
    },
    {
      "cell_type": "code",
      "source": [
        "# Matriks awal untuk Sistem Persamaan Linear (SPL)\n",
        "SPL = [\n",
        "    [2, 3, -1, 5],   # Baris 1\n",
        "    [4, 4, -3, 3],   # Baris 2\n",
        "    [-2, 3, -1, 1]   # Baris 3\n",
        "]\n",
        "\n",
        "# Menampilkan matriks SPL\n",
        "print(\"Sistem Persamaan Linear (SPL) dalam bentuk matriks awal:\")\n",
        "for row in SPL:\n",
        "    print(row)\n"
      ],
      "metadata": {
        "id": "oxeQmTeXg8tX"
      },
      "execution_count": null,
      "outputs": []
    },
    {
      "cell_type": "code",
      "source": [
        "# Eliminasi baris pertama untuk baris kedua\n",
        "for i in range(4):  # Iterasi setiap elemen kolom\n",
        "    SPL[1][i] = SPL[1][i] - (2 * SPL[0][i])\n",
        "\n",
        "# Eliminasi baris pertama untuk baris ketiga\n",
        "for i in range(4):  # Iterasi setiap elemen kolom\n",
        "    SPL[2][i] = SPL[2][i] - (-1 * SPL[0][i])\n",
        "\n",
        "# Menampilkan matriks setelah eliminasi baris pertama\n",
        "print(\"Matriks setelah eliminasi baris pertama:\")\n",
        "for row in SPL:\n",
        "    print(row)\n"
      ],
      "metadata": {
        "id": "6FUN7VulhK1Q"
      },
      "execution_count": null,
      "outputs": []
    },
    {
      "cell_type": "code",
      "source": [
        "# Eliminasi baris kedua untuk baris ketiga\n",
        "for i in range(1, 4):  # Mulai dari kolom ke-2 hingga kolom terakhir\n",
        "    SPL[2][i] = SPL[2][i] - (-3 * SPL[1][i])\n",
        "\n",
        "# Menampilkan matriks setelah eliminasi baris kedua\n",
        "print(\"Matriks setelah eliminasi baris kedua:\")\n",
        "for row in SPL:\n",
        "    print(row)\n"
      ],
      "metadata": {
        "id": "stTNFTPqhVvh"
      },
      "execution_count": null,
      "outputs": []
    },
    {
      "cell_type": "code",
      "source": [
        "# Menampilkan hasil akhir matriks setelah eliminasi Gauss\n",
        "print(\"Hasil akhir eliminasi Gauss (matriks segitiga atas):\")\n",
        "for row in SPL:\n",
        "    print(row)\n",
        "\n",
        "# Validasi elemen tertentu jika diperlukan\n",
        "print(\"Elemen SPL[1][1]:\", SPL[1][1])  # Menampilkan elemen baris 2, kolom 2\n",
        "print(\"Elemen SPL[2][2]:\", SPL[2][2])  # Menampilkan elemen baris 3, kolom 3\n"
      ],
      "metadata": {
        "id": "Kbh7b-rChazR"
      },
      "execution_count": null,
      "outputs": []
    }
  ]
}