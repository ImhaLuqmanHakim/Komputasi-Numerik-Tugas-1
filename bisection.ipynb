{
  "nbformat": 4,
  "nbformat_minor": 0,
  "metadata": {
    "colab": {
      "provenance": [],
      "include_colab_link": true
    },
    "kernelspec": {
      "name": "python3",
      "display_name": "Python 3"
    },
    "language_info": {
      "name": "python"
    }
  },
  "cells": [
    {
      "cell_type": "markdown",
      "metadata": {
        "id": "view-in-github",
        "colab_type": "text"
      },
      "source": [
        "<a href=\"https://colab.research.google.com/github/ImhaLuqmanHakim/Komputasi-Numerik-Tugas-1/blob/main/bisection.ipynb\" target=\"_parent\"><img src=\"https://colab.research.google.com/assets/colab-badge.svg\" alt=\"Open In Colab\"/></a>"
      ]
    },
    {
      "cell_type": "code",
      "source": [
        "# Import library numpy untuk operasi numerik\n",
        "import numpy as np\n"
      ],
      "metadata": {
        "id": "Y28f4UXtWNy5"
      },
      "execution_count": null,
      "outputs": []
    },
    {
      "cell_type": "code",
      "source": [
        "# Fungsi untuk metode bisection\n",
        "def bisection(f, a, b, tol):\n",
        "\n",
        "# Mengecek apakah tanda fungsi di titik a dan b sama\n",
        "  if np.sign(f(a)) == np.sign(f(b)):\n",
        "        raise Exception(\n",
        "         \"Interval tidak valid, tidak dapat menghitung akar.\")\n",
        "\n",
        "   # Menghitung titik tengah\n",
        "    m = (a + b)/2\n",
        "\n",
        "    # Mengecek apakah nilai fungsi di m lebih kecil dari toleransi\n",
        "    if np.abs(f(m)) < tol:\n",
        "        return m\n",
        "    # Jika tanda fungsi di a sama dengan di m, perbarui interval menjadi [m, b]\n",
        "    elif np.sign(f(a)) == np.sign(f(m)):\n",
        "        return bisection(f, m, b, tol)\n",
        "   # Jika tanda fungsi di b sama dengan di m, perbarui interval menjadi [a, m]\n",
        "    elif np.sign(f(b)) == np.sign(f(m)):\n",
        "        return bisection(f, a, m, tol)"
      ],
      "metadata": {
        "id": "5_LhaSoZurtu"
      },
      "execution_count": null,
      "outputs": []
    },
    {
      "cell_type": "code",
      "source": [
        "# Fungsi lambda untuk mencari akar kuadrat dari 2\n",
        "f = lambda x: x**2 - 2"
      ],
      "metadata": {
        "id": "QsdaxiKxXO4C"
      },
      "execution_count": null,
      "outputs": []
    },
    {
      "cell_type": "code",
      "source": [
        "# Pemanggilan fungsi bisection\n",
        "\n",
        "r1 = my_bisection(f, 0, 2, 0.1)  # Toleransi 0.1\n",
        "print(\"r1 =\", r1)\n",
        "r01 = my_bisection(f, 0, 2, 0.01) # Toleransi 0.01\n",
        "print(\"r01 =\", r01)\n",
        "\n",
        "# Menampilkan nilai fungsi pada akar yang ditemukan\n",
        "print(\"f(r1) =\", f(r1))\n",
        "print(\"f(r01) =\", f(r01))"
      ],
      "metadata": {
        "id": "ncQT2IKYvNBk"
      },
      "execution_count": null,
      "outputs": []
    }
  ]
}