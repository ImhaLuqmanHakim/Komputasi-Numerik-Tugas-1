{
  "nbformat": 4,
  "nbformat_minor": 0,
  "metadata": {
    "colab": {
      "provenance": [],
      "include_colab_link": true
    },
    "kernelspec": {
      "name": "python3",
      "display_name": "Python 3"
    },
    "language_info": {
      "name": "python"
    }
  },
  "cells": [
    {
      "cell_type": "markdown",
      "metadata": {
        "id": "view-in-github",
        "colab_type": "text"
      },
      "source": [
        "<a href=\"https://colab.research.google.com/github/ImhaLuqmanHakim/Komputasi-Numerik-Tugas-1/blob/main/bisection.ipynb\" target=\"_parent\"><img src=\"https://colab.research.google.com/assets/colab-badge.svg\" alt=\"Open In Colab\"/></a>"
      ]
    },
    {
      "cell_type": "code",
      "source": [
        "# Import library numpy untuk operasi numerik\n",
        "import numpy as np\n"
      ],
      "metadata": {
        "id": "Y28f4UXtWNy5"
      },
      "execution_count": null,
      "outputs": []
    },
    {
      "cell_type": "code",
      "source": [
        "# Fungsi bisection untuk mencari akar suatu fungsi\n",
        "def bisection(f, a, b, tol):\n",
        "    # Mengecek apakah f(a) dan f(b) memiliki tanda yang sama, jika iya, tidak bisa lanjut\n",
        "    if np.sign(f(a)) == np.sign(f(b)):\n",
        "        raise Exception(\"Tidak bisa, karena tanda f(a) dan f(b) sama\")\n",
        "\n",
        "    # Menghitung titik tengah (midpoint) dari interval [a, b]\n",
        "    m = (a + b) / 2\n",
        "\n",
        "    # Jika nilai fungsi di titik tengah sudah lebih kecil dari toleransi, return titik tersebut\n",
        "    if np.abs(f(m)) < tol:\n",
        "        return m\n",
        "    # Jika tanda fungsi pada [a, m] sama, maka akarnya ada di [m, b]\n",
        "    elif np.sign(f(a)) == np.sign(f(m)):\n",
        "        return bisection(f, m, b, tol)\n",
        "    # Jika tanda fungsi pada [m, b] sama, maka akarnya ada di [a, m]\n",
        "    elif np.sign(f(b)) == np.sign(f(m)):\n",
        "        return bisection(f, a, m, tol)\n"
      ],
      "metadata": {
        "id": "5_LhaSoZurtu"
      },
      "execution_count": 25,
      "outputs": []
    },
    {
      "cell_type": "code",
      "source": [
        "# Definisikan fungsi yang ingin dicari akarnya\n",
        "f = lambda x: x**2 - 2\n",
        "\n",
        "# Menjalankan metode bisection dengan toleransi 0.1\n",
        "r1 = bisection(f, 0, 2, 0.1)\n",
        "print(\"r1 =\", r1)\n",
        "\n",
        "# Menjalankan metode bisection dengan toleransi 0.01\n",
        "r01 = bisection(f, 0, 2, 0.01)\n",
        "print(\"r01 =\", r01)\n"
      ],
      "metadata": {
        "id": "QsdaxiKxXO4C",
        "outputId": "40b7bee4-d8a6-43c1-99d7-f94d647aec23",
        "colab": {
          "base_uri": "https://localhost:8080/"
        }
      },
      "execution_count": 22,
      "outputs": [
        {
          "output_type": "stream",
          "name": "stdout",
          "text": [
            "r1 = 1.4375\n",
            "r01 = 1.4140625\n"
          ]
        }
      ]
    },
    {
      "cell_type": "code",
      "source": [
        "# Menampilkan hasil evaluasi fungsi pada nilai akar yang ditemukan\n",
        "print(\"f(r1) =\", f(r1))\n",
        "print(\"f(r01) =\", f(r01))\n"
      ],
      "metadata": {
        "id": "ncQT2IKYvNBk",
        "outputId": "b60dae66-452b-421f-8b30-be88ae9f12a8",
        "colab": {
          "base_uri": "https://localhost:8080/"
        }
      },
      "execution_count": 23,
      "outputs": [
        {
          "output_type": "stream",
          "name": "stdout",
          "text": [
            "f(r1) = 0.06640625\n",
            "f(r01) = -0.00042724609375\n"
          ]
        }
      ]
    }
  ]
}